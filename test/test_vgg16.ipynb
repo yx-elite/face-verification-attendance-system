{
 "cells": [
  {
   "cell_type": "code",
   "execution_count": 101,
   "metadata": {},
   "outputs": [],
   "source": [
    "# Documentation: https://www.tensorflow.org/api_docs/python/tf/keras/preprocessing/image\n",
    "from keras.preprocessing.image import ImageDataGenerator, img_to_array, load_img"
   ]
  },
  {
   "cell_type": "code",
   "execution_count": 102,
   "metadata": {},
   "outputs": [],
   "source": [
    "train_data_gen = ImageDataGenerator(\n",
    "    rotation_range=40,\n",
    "    width_shift_range=0.2,\n",
    "    height_shift_range=0.2,\n",
    "    rescale=1./255,\n",
    "    shear_range=0.2,\n",
    "    zoom_range=0.2,\n",
    "    horizontal_flip=True,\n",
    "    fill_mode='nearest'\n",
    ")"
   ]
  },
  {
   "cell_type": "code",
   "execution_count": 103,
   "metadata": {},
   "outputs": [],
   "source": [
    "image = load_img(\n",
    "    'data/anchor/Yi Xian/7a9a08fb-a167-11ee-bfda-9c2976f172db.jpg', \n",
    "    target_size=(224, 224)\n",
    "    )"
   ]
  },
  {
   "cell_type": "code",
   "execution_count": 104,
   "metadata": {},
   "outputs": [],
   "source": [
    "# (224, 224, 3)\n",
    "input_arr = img_to_array(image)\n",
    "\n",
    "# Reshape to (1, 224, 224, 3)\n",
    "input_reshape = input_arr.reshape((1, ) + input_arr.shape)"
   ]
  },
  {
   "cell_type": "code",
   "execution_count": 105,
   "metadata": {},
   "outputs": [],
   "source": [
    "i = 0\n",
    "for batch in train_data_gen.flow(\n",
    "    input_reshape,\n",
    "    batch_size=1,\n",
    "    save_to_dir='data/preview', \n",
    "    save_prefix='preview', \n",
    "    save_format='jpg'\n",
    "    ):\n",
    "    i += 1\n",
    "    if i > 10:\n",
    "        break"
   ]
  }
 ],
 "metadata": {
  "kernelspec": {
   "display_name": ".venv",
   "language": "python",
   "name": "python3"
  },
  "language_info": {
   "codemirror_mode": {
    "name": "ipython",
    "version": 3
   },
   "file_extension": ".py",
   "mimetype": "text/x-python",
   "name": "python",
   "nbconvert_exporter": "python",
   "pygments_lexer": "ipython3",
   "version": "3.11.3"
  }
 },
 "nbformat": 4,
 "nbformat_minor": 2
}
