{
 "cells": [
  {
   "cell_type": "code",
   "execution_count": 43,
   "metadata": {},
   "outputs": [],
   "source": [
    "import cv2\n",
    "import os"
   ]
  },
  {
   "cell_type": "code",
   "execution_count": 44,
   "metadata": {},
   "outputs": [],
   "source": [
    "# Load HAAR Classifier\n",
    "face_classifier = cv2.CascadeClassifier('config/haarcascade_frontalface_default.xml')"
   ]
  },
  {
   "cell_type": "code",
   "execution_count": 45,
   "metadata": {},
   "outputs": [],
   "source": [
    "def search_all_images(raw_path):\n",
    "    if not os.path.exists(raw_path):\n",
    "        print(f\"Directory '{raw_path}' does not exist\")\n",
    "\n",
    "    all_files = os.listdir(raw_path)\n",
    "\n",
    "    return all_files"
   ]
  },
  {
   "cell_type": "code",
   "execution_count": 46,
   "metadata": {},
   "outputs": [],
   "source": [
    "def mkdir(name):\n",
    "    out_path = f'img\\processed\\{name}'\n",
    "    if not os.path.exists(out_path):\n",
    "        os.makedirs(out_path)\n",
    "        print(f\"\\nDirectory '{out_path}' created successfully\")\n",
    "    else:\n",
    "        print(f\"\\nDirectory '{out_path}' already exists\")\n",
    "    \n",
    "    return out_path"
   ]
  },
  {
   "cell_type": "code",
   "execution_count": 47,
   "metadata": {},
   "outputs": [],
   "source": [
    "def save_face_img(out_dir, name, i, face):\n",
    "    processed = os.path.join(str(out_dir), f'{name.lower()}_{i}.jpg')\n",
    "    cv2.imwrite(processed, face)\n",
    "    print(f\"Processed image: '{processed}'\")"
   ]
  },
  {
   "cell_type": "code",
   "execution_count": 48,
   "metadata": {},
   "outputs": [],
   "source": [
    "i = 1\n",
    "\n",
    "def img_preprocess(raw_dir, out_dir, name):\n",
    "    raw_images = search_all_images(raw_dir)\n",
    "    \n",
    "    for image in raw_images:\n",
    "        img_full_path = f'{raw_dir}/{image}'\n",
    "        img = cv2.imread(img_full_path)\n",
    "        gray = cv2.cvtColor(img, cv2.COLOR_BGR2GRAY)\n",
    "        face_locate = face_classifier.detectMultiScale(gray, 1.3, 5)\n",
    "        \n",
    "        global i \n",
    "        for (x, y, w, h) in face_locate:\n",
    "            face_crop = img[y:y + h, x:x + w]\n",
    "            face = cv2.resize(face_crop, (400, 400))\n",
    "            save_face_img(out_dir, name, i, face)\n",
    "            i += 1\n",
    "            "
   ]
  },
  {
   "cell_type": "code",
   "execution_count": 49,
   "metadata": {},
   "outputs": [
    {
     "name": "stdout",
     "output_type": "stream",
     "text": [
      "\n",
      "Directory 'img\\processed\\Yi Xian' already exists\n",
      "Processed image: 'img\\processed\\Yi Xian\\yi xian_1.jpg'\n",
      "Processed image: 'img\\processed\\Yi Xian\\yi xian_2.jpg'\n",
      "Processed image: 'img\\processed\\Yi Xian\\yi xian_3.jpg'\n"
     ]
    }
   ],
   "source": [
    "def main():\n",
    "    name = 'Yi Xian'\n",
    "    raw_path = f'./img/raw/{name}'\n",
    "    out_path = mkdir(name)\n",
    "    img_preprocess(raw_path, out_path, name)\n",
    "\n",
    "\n",
    "if __name__ == \"__main__\":\n",
    "    main()"
   ]
  }
 ],
 "metadata": {
  "kernelspec": {
   "display_name": ".venv",
   "language": "python",
   "name": "python3"
  },
  "language_info": {
   "codemirror_mode": {
    "name": "ipython",
    "version": 3
   },
   "file_extension": ".py",
   "mimetype": "text/x-python",
   "name": "python",
   "nbconvert_exporter": "python",
   "pygments_lexer": "ipython3",
   "version": "3.11.3"
  }
 },
 "nbformat": 4,
 "nbformat_minor": 2
}
